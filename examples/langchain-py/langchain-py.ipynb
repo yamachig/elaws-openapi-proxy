{
 "cells": [
  {
   "cell_type": "markdown",
   "metadata": {},
   "source": [
    "# elaws-openapi-proxy example usage by langchain\n",
    "\n",
    "## Prerequisites\n",
    "\n",
    "1. This example uses the [OpenAI API](https://openai.com/blog/openai-api). Please prepare your OpenAI API key. Be aware that calling the API may incur costs.\n",
    "\n",
    "2. Get ready your [elaws-openapi-proxy server](../../README.md) and make sure the OpenAPI spec of the server is accessible from the environment this notebook runs.\n",
    "\n",
    "3. The Python environment of this notebook is managed by [Poetry](https://python-poetry.org/docs/#installation). Please install Poetry if necessary, and run `poetry install` in the same directory as this notebook.\n",
    "\n",
    "## How to run the notebook\n",
    "\n",
    "1. Save the OpenAI API key in the [`.env`](.env) file in the same directory as this notebook. Write the key in the `.env` file as below.\n",
    "    ```\n",
    "    OPENAI_API_KEY=sk-*******************************\n",
    "    ```\n",
    "\n",
    "2. Before running the notebook, make sure the [elaws-openapi-proxy server](../../README.md) is running. If necessary, please modify the `ELAWS_OPENAPI_SPEC_URI` variable in the next cell.\n",
    "\n",
    "3. Run the all cells below."
   ]
  },
  {
   "cell_type": "code",
   "execution_count": 1,
   "metadata": {},
   "outputs": [],
   "source": [
    "\"\"\"\n",
    "The OpenAPI spec URI of the elaws-openapi-proxy server.\n",
    "Please modify it if necessary.\n",
    "\"\"\"\n",
    "ELAWS_OPENAPI_SPEC_URI = \"http://localhost:3000/openapi.json\""
   ]
  },
  {
   "cell_type": "code",
   "execution_count": 2,
   "metadata": {},
   "outputs": [
    {
     "name": "stdout",
     "output_type": "stream",
     "text": [
      "langchain.__version__ = '0.0.240'\n"
     ]
    }
   ],
   "source": [
    "from dotenv import load_dotenv\n",
    "assert load_dotenv()\n",
    "import langchain\n",
    "print(f\"{langchain.__version__ = }\")\n",
    "\n",
    "from langchain.chains.openai_functions.openapi import get_openapi_chain\n",
    "from langchain.chat_models import ChatOpenAI\n",
    "from langchain.agents import initialize_agent, Tool, AgentType\n",
    "from langchain.prompts import ChatPromptTemplate"
   ]
  },
  {
   "cell_type": "code",
   "execution_count": 3,
   "metadata": {},
   "outputs": [
    {
     "name": "stderr",
     "output_type": "stream",
     "text": [
      "Attempting to load an OpenAPI 3.0.0 spec.  This may result in degraded performance. Convert your OpenAPI spec to 3.1.* spec for better support.\n"
     ]
    }
   ],
   "source": [
    "llm = ChatOpenAI(\n",
    "    model=\"gpt-4-0613\",\n",
    "    temperature=0,\n",
    "    verbose=True,\n",
    ")\n",
    "chain = get_openapi_chain(\n",
    "    spec=ELAWS_OPENAPI_SPEC_URI,\n",
    "    llm=llm,\n",
    "    verbose=True,\n",
    "    prompt=ChatPromptTemplate.from_template(\n",
    "        \"Keep in mind that the exact words and characters matter for laws. Do not make up an answer. Use the provided functions to respond to this user query:\\n\\n{query}\"\n",
    "    )\n",
    ")"
   ]
  },
  {
   "cell_type": "code",
   "execution_count": 4,
   "metadata": {},
   "outputs": [],
   "source": [
    "tools = [\n",
    "    Tool(\n",
    "        name=\"Law-DB\",\n",
    "        func=chain.run,\n",
    "        description=\"useful for when you need to answer questions about laws\",\n",
    "    ),\n",
    "]\n",
    "agent = initialize_agent(\n",
    "    tools=tools,\n",
    "    llm=llm,\n",
    "    agent=AgentType.OPENAI_FUNCTIONS,\n",
    "    verbose=True,\n",
    ")"
   ]
  },
  {
   "cell_type": "code",
   "execution_count": 5,
   "metadata": {},
   "outputs": [
    {
     "name": "stdout",
     "output_type": "stream",
     "text": [
      "\n",
      "\n",
      "\u001b[1m> Entering new AgentExecutor chain...\u001b[0m\n",
      "\u001b[32;1m\u001b[1;3m\n",
      "Invoking: `Law-DB` with `デジタル庁設置法（令和三年法律第三十六号）第一条`\n",
      "\n",
      "\n",
      "\u001b[0m\n",
      "\n",
      "\u001b[1m> Entering new SequentialChain chain...\u001b[0m\n",
      "\n",
      "\n",
      "\u001b[1m> Entering new LLMChain chain...\u001b[0m\n",
      "Prompt after formatting:\n",
      "\u001b[32;1m\u001b[1;3mHuman: Keep in mind that the exact words and characters matter for laws. Do not make up an answer. Use the provided functions to respond to this user query:\n",
      "\n",
      "デジタル庁設置法（令和三年法律第三十六号）第一条\u001b[0m\n",
      "\n",
      "\u001b[1m> Finished chain.\u001b[0m\n",
      "\n",
      "\n",
      "\u001b[1m> Entering new SimpleRequestChain chain...\u001b[0m\n",
      "Calling endpoint \u001b[32;1m\u001b[1;3mGetArticles\u001b[0m with arguments:\n",
      "\u001b[32;1m\u001b[1;3m{\n",
      "  \"params\": {\n",
      "    \"lawNum\": \"\\u4ee4\\u548c\\u4e09\\u5e74\\u6cd5\\u5f8b\\u7b2c\\u4e09\\u5341\\u516d\\u53f7\",\n",
      "    \"article\": \"1\"\n",
      "  }\n",
      "}\u001b[0m\n",
      "\u001b[1m> Finished chain.\u001b[0m\n",
      "\n",
      "\u001b[1m> Finished chain.\u001b[0m\n",
      "\u001b[36;1m\u001b[1;3m{'Result': {'Code': '0', 'Message': ''}, 'ApplData': {'LawId': '', 'LawNum': '令和三年法律第三十六号', 'Article': '1', 'Paragraph': '', 'AppdxTable': '', 'LawContents': '\\n      <Article Num=\"1\">\\n        <ArticleCaption>（目的）</ArticleCaption>\\n        <ArticleTitle>第一条</ArticleTitle>\\n        <Paragraph Num=\"1\">\\n          <ParagraphNum/>\\n          <ParagraphSentence>\\n            <Sentence Num=\"1\" WritingMode=\"vertical\">この法律は、デジタル庁の設置並びに任務及びこれを達成するため必要となる明確な範囲の所掌事務を定めるとともに、その所掌する行政事務を能率的に遂行するため必要な組織に関する事項を定めることを目的とする。</Sentence>\\n          </ParagraphSentence>\\n        </Paragraph>\\n      </Article>\\n    '}}\u001b[0m\u001b[32;1m\u001b[1;3mデジタル庁設置法（令和三年法律第三十六号）第一条の内容は以下の通りです。\n",
      "\n",
      "（目的）\n",
      "第一条\n",
      "この法律は、デジタル庁の設置並びに任務及びこれを達成するため必要となる明確な範囲の所掌事務を定めるとともに、その所掌する行政事務を能率的に遂行するため必要な組織に関する事項を定めることを目的とする。\u001b[0m\n",
      "\n",
      "\u001b[1m> Finished chain.\u001b[0m\n",
      "デジタル庁設置法（令和三年法律第三十六号）第一条の内容は以下の通りです。\n",
      "\n",
      "（目的）\n",
      "第一条\n",
      "この法律は、デジタル庁の設置並びに任務及びこれを達成するため必要となる明確な範囲の所掌事務を定めるとともに、その所掌する行政事務を能率的に遂行するため必要な組織に関する事項を定めることを目的とする。\n"
     ]
    }
   ],
   "source": [
    "output = agent.run(\"デジタル庁設置法（令和三年法律第三十六号）第一条の内容を教えてください。\")\n",
    "print(output)"
   ]
  }
 ],
 "metadata": {
  "kernelspec": {
   "display_name": ".venv",
   "language": "python",
   "name": "python3"
  },
  "language_info": {
   "codemirror_mode": {
    "name": "ipython",
    "version": 3
   },
   "file_extension": ".py",
   "mimetype": "text/x-python",
   "name": "python",
   "nbconvert_exporter": "python",
   "pygments_lexer": "ipython3",
   "version": "3.11.1"
  },
  "orig_nbformat": 4
 },
 "nbformat": 4,
 "nbformat_minor": 2
}
