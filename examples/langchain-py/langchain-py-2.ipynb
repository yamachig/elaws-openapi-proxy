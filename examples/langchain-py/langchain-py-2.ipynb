{
 "cells": [
  {
   "cell_type": "markdown",
   "metadata": {},
   "source": [
    "# elaws-openapi-proxy example usage by langchain\n",
    "\n",
    "## Prerequisites\n",
    "\n",
    "1. This example uses the [OpenAI API](https://openai.com/blog/openai-api). Please prepare your OpenAI API key. Be aware that calling the API may incur costs.\n",
    "\n",
    "2. Get ready your [elaws-openapi-proxy server](../../README.md) and make sure the OpenAPI spec of the server is accessible from the environment this notebook runs.\n",
    "\n",
    "3. The Python environment of this notebook is managed by [Poetry](https://python-poetry.org/docs/#installation). Please install Poetry if necessary, and run `poetry install` in the same directory as this notebook.\n",
    "\n",
    "## How to run the notebook\n",
    "\n",
    "1. Save the OpenAI API key in the [`.env`](.env) file in the same directory as this notebook. Write the key in the `.env` file as below.\n",
    "    ```\n",
    "    OPENAI_API_KEY=sk-*******************************\n",
    "    ```\n",
    "\n",
    "2. Before running the notebook, make sure the [elaws-openapi-proxy server](../../README.md) is running. If necessary, please modify the `ELAWS_OPENAPI_SPEC_URI` variable in the next cell.\n",
    "\n",
    "3. Run the all cells below."
   ]
  },
  {
   "cell_type": "code",
   "execution_count": 1,
   "metadata": {},
   "outputs": [],
   "source": [
    "\"\"\"\n",
    "The OpenAPI spec URI of the elaws-openapi-proxy server.\n",
    "Please modify it if necessary.\n",
    "\"\"\"\n",
    "ELAWS_OPENAPI_SPEC_URI = \"http://localhost:3000/openapi.json\""
   ]
  },
  {
   "cell_type": "code",
   "execution_count": 2,
   "metadata": {},
   "outputs": [
    {
     "name": "stdout",
     "output_type": "stream",
     "text": [
      "langchain.__version__ = '0.0.240'\n"
     ]
    }
   ],
   "source": [
    "DEBUG = False\n",
    "\n",
    "from dotenv import load_dotenv\n",
    "assert load_dotenv()\n",
    "import langchain\n",
    "print(f\"{langchain.__version__ = }\")\n",
    "langchain.verbose = True\n",
    "if DEBUG:\n",
    "    langchain.debug = True\n",
    "\n",
    "from langchain.chat_models import ChatOpenAI\n",
    "from langchain.agents import Tool, OpenAIFunctionsAgent, AgentExecutor\n",
    "from langchain.utilities.openapi import OpenAPISpec\n",
    "from langchain.chains.openai_functions.openapi import openapi_spec_to_openai_fn\n",
    "from langchain.tools import format_tool_to_openai_function\n",
    "from langchain.schema.messages import SystemMessage\n",
    "\n",
    "from IPython.display import display, Markdown"
   ]
  },
  {
   "cell_type": "code",
   "execution_count": 3,
   "metadata": {},
   "outputs": [],
   "source": [
    "llm = ChatOpenAI(\n",
    "    model=\"gpt-4-0613\",\n",
    "    temperature=0,\n",
    ")"
   ]
  },
  {
   "cell_type": "code",
   "execution_count": 4,
   "metadata": {},
   "outputs": [
    {
     "name": "stderr",
     "output_type": "stream",
     "text": [
      "Attempting to load an OpenAPI 3.0.0 spec.  This may result in degraded performance. Convert your OpenAPI spec to 3.1.* spec for better support.\n"
     ]
    }
   ],
   "source": [
    "class OpenAIFunctionTool(Tool):\n",
    "    openai_function: dict\n",
    "    def run(self, tool_input, *args, **kwargs):\n",
    "        return super().run({ \"input\": tool_input }, *args, **kwargs)\n",
    "\n",
    "class CustomOpenAIFunctionsAgent(OpenAIFunctionsAgent):\n",
    "    @property\n",
    "    def functions(self):\n",
    "        return [\n",
    "            t.openai_function if hasattr(t, \"openai_function\") else dict(format_tool_to_openai_function(t))\n",
    "            for t in self.tools\n",
    "        ]\n",
    "\n",
    "def openapi_spec_to_tools(spec_url: str):\n",
    "\n",
    "    functions, orig_call_api = openapi_spec_to_openai_fn(OpenAPISpec.from_url(spec_url))\n",
    "\n",
    "    def create_call_api(name):\n",
    "        def call_api(*args, **kwargs):\n",
    "            return orig_call_api(name, *args, **kwargs).text\n",
    "        return call_api\n",
    "\n",
    "    return [\n",
    "        OpenAIFunctionTool(\n",
    "            name=f_spec[\"name\"],\n",
    "            func=create_call_api(f_spec[\"name\"]),\n",
    "            description=f_spec[\"description\"],\n",
    "            openai_function=f_spec,\n",
    "        )\n",
    "        for f_spec in functions\n",
    "    ]\n",
    "\n",
    "tools = openapi_spec_to_tools(ELAWS_OPENAPI_SPEC_URI)"
   ]
  },
  {
   "cell_type": "code",
   "execution_count": 5,
   "metadata": {},
   "outputs": [],
   "source": [
    "agent = CustomOpenAIFunctionsAgent.from_llm_and_tools(\n",
    "    llm=llm,\n",
    "    tools=tools,\n",
    "    system_message=SystemMessage(\n",
    "        content=\"You are a helpful and careful AI assistant designed to answer questions about Japanese laws using the given functions. Keep in mind that the exact words and characters matter for laws. Do not make up an answer.\",\n",
    "    )\n",
    ")\n",
    "\n",
    "agent_executor = AgentExecutor(\n",
    "    agent=agent,\n",
    "    tools=tools,\n",
    ")"
   ]
  },
  {
   "cell_type": "code",
   "execution_count": 6,
   "metadata": {},
   "outputs": [
    {
     "name": "stdout",
     "output_type": "stream",
     "text": [
      "\n",
      "\n",
      "\u001b[1m> Entering new AgentExecutor chain...\u001b[0m\n",
      "\u001b[32;1m\u001b[1;3m\n",
      "Invoking: `GetArticles` with `{'params': {'lawNum': '令和三年法律第三十六号', 'article': '第一条'}}`\n",
      "\n",
      "\n",
      "\u001b[0m\u001b[36;1m\u001b[1;3m{\"Result\":{\"Code\":\"0\",\"Message\":\"\"},\"ApplData\":{\"LawId\":\"\",\"LawNum\":\"令和三年法律第三十六号\",\"Article\":\"第一条\",\"Paragraph\":\"\",\"AppdxTable\":\"\",\"LawContents\":\"\\n      <Article Num=\\\"1\\\">\\n        <ArticleCaption>（目的）</ArticleCaption>\\n        <ArticleTitle>第一条</ArticleTitle>\\n        <Paragraph Num=\\\"1\\\">\\n          <ParagraphNum/>\\n          <ParagraphSentence>\\n            <Sentence Num=\\\"1\\\" WritingMode=\\\"vertical\\\">この法律は、デジタル庁の設置並びに任務及びこれを達成するため必要となる明確な範囲の所掌事務を定めるとともに、その所掌する行政事務を能率的に遂行するため必要な組織に関する事項を定めることを目的とする。</Sentence>\\n          </ParagraphSentence>\\n        </Paragraph>\\n      </Article>\\n    \"}}\u001b[0m\u001b[32;1m\u001b[1;3mデジタル庁設置法（令和三年法律第三十六号）第一条の内容は以下の通りです。\n",
      "\n",
      "（目的）\n",
      "第一条\n",
      "この法律は、デジタル庁の設置並びに任務及びこれを達成するため必要となる明確な範囲の所掌事務を定めるとともに、その所掌する行政事務を能率的に遂行するため必要な組織に関する事項を定めることを目的とする。\u001b[0m\n",
      "\n",
      "\u001b[1m> Finished chain.\u001b[0m\n"
     ]
    }
   ],
   "source": [
    "query = \"デジタル庁設置法（令和三年法律第三十六号）第一条の内容を教えてください。\"\n",
    "output = agent_executor.run(query)"
   ]
  },
  {
   "cell_type": "code",
   "execution_count": 7,
   "metadata": {},
   "outputs": [
    {
     "data": {
      "text/markdown": [
       "### Query:"
      ],
      "text/plain": [
       "<IPython.core.display.Markdown object>"
      ]
     },
     "metadata": {},
     "output_type": "display_data"
    },
    {
     "data": {
      "text/markdown": [
       "````\n",
       "デジタル庁設置法（令和三年法律第三十六号）第一条の内容を教えてください。\n",
       "````\n"
      ],
      "text/plain": [
       "<IPython.core.display.Markdown object>"
      ]
     },
     "metadata": {},
     "output_type": "display_data"
    },
    {
     "data": {
      "text/markdown": [
       "### Output:"
      ],
      "text/plain": [
       "<IPython.core.display.Markdown object>"
      ]
     },
     "metadata": {},
     "output_type": "display_data"
    },
    {
     "data": {
      "text/markdown": [
       "````\n",
       "デジタル庁設置法（令和三年法律第三十六号）第一条の内容は以下の通りです。\n",
       "\n",
       "（目的）\n",
       "第一条\n",
       "この法律は、デジタル庁の設置並びに任務及びこれを達成するため必要となる明確な範囲の所掌事務を定めるとともに、その所掌する行政事務を能率的に遂行するため必要な組織に関する事項を定めることを目的とする。\n",
       "````\n"
      ],
      "text/plain": [
       "<IPython.core.display.Markdown object>"
      ]
     },
     "metadata": {},
     "output_type": "display_data"
    },
    {
     "data": {
      "text/markdown": [
       "### Result:"
      ],
      "text/plain": [
       "<IPython.core.display.Markdown object>"
      ]
     },
     "metadata": {},
     "output_type": "display_data"
    },
    {
     "data": {
      "text/markdown": [
       "✅ Success: the correct answer included."
      ],
      "text/plain": [
       "<IPython.core.display.Markdown object>"
      ]
     },
     "metadata": {},
     "output_type": "display_data"
    }
   ],
   "source": [
    "answer = \"この法律は、デジタル庁の設置並びに任務及びこれを達成するため必要となる明確な範囲の所掌事務を定めるとともに、その所掌する行政事務を能率的に遂行するため必要な組織に関する事項を定めることを目的とする。\"\n",
    "\n",
    "display(Markdown(\"### Query:\"))\n",
    "display(Markdown(f\"\"\"\\\n",
    "````\n",
    "{query}\n",
    "````\n",
    "\"\"\"))\n",
    "\n",
    "display(Markdown(\"### Output:\"))\n",
    "display(Markdown(f\"\"\"\\\n",
    "````\n",
    "{output}\n",
    "````\n",
    "\"\"\"))\n",
    "\n",
    "success = answer in output\n",
    "\n",
    "display(Markdown(\"### Result:\"))\n",
    "\n",
    "if success:\n",
    "    display(Markdown(\"✅ Success: the correct answer included.\"))\n",
    "else:\n",
    "    display(Markdown(\"❌ Fail: the correct answer not included.\"))"
   ]
  }
 ],
 "metadata": {
  "kernelspec": {
   "display_name": ".venv",
   "language": "python",
   "name": "python3"
  },
  "language_info": {
   "codemirror_mode": {
    "name": "ipython",
    "version": 3
   },
   "file_extension": ".py",
   "mimetype": "text/x-python",
   "name": "python",
   "nbconvert_exporter": "python",
   "pygments_lexer": "ipython3",
   "version": "3.11.1"
  },
  "orig_nbformat": 4
 },
 "nbformat": 4,
 "nbformat_minor": 2
}
